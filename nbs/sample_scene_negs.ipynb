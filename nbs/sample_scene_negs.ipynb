{
 "cells": [
  {
   "cell_type": "code",
   "execution_count": null,
   "metadata": {},
   "outputs": [],
   "source": [
    "%load_ext autoreload\n",
    "%autoreload 2"
   ]
  },
  {
   "cell_type": "code",
   "execution_count": null,
   "metadata": {},
   "outputs": [],
   "source": [
    "import warnings\n",
    "warnings.filterwarnings(\"ignore\")\n",
    "\n",
    "import sys\n",
    "sys.path.insert(0,\"../\")"
   ]
  },
  {
   "cell_type": "code",
   "execution_count": null,
   "metadata": {},
   "outputs": [],
   "source": [
    "from torch.utils.data import DataLoader, Dataset\n",
    "import torch"
   ]
  },
  {
   "cell_type": "code",
   "execution_count": null,
   "metadata": {},
   "outputs": [],
   "source": [
    "import random\n",
    "import matplotlib.pyplot as plt\n",
    "%matplotlib inline\n",
    "import numpy as np"
   ]
  },
  {
   "cell_type": "code",
   "execution_count": null,
   "metadata": {},
   "outputs": [],
   "source": [
    "from core.model.model import MoCo_scene_and_view as MoCo\n",
    "from core.dataloader import CLEVR_train, collate_boxes, CLEVR_train_onlyquery, collate_boxes_onlyquery, CLEVR_train_sampleallnegs\n",
    "from core.utils import compute_features\n",
    "from core.dataloader import sample_same_scene_negs\n",
    "from vis_utils import *"
   ]
  },
  {
   "cell_type": "code",
   "execution_count": null,
   "metadata": {},
   "outputs": [],
   "source": []
  },
  {
   "cell_type": "code",
   "execution_count": null,
   "metadata": {},
   "outputs": [],
   "source": [
    "def sample_same_scene_negs_(feed_dict_q, feed_dict_k, metadata, hyp_N, views_to_sample = 16):\n",
    "    assert views_to_sample <= 16\n",
    "    \n",
    "    B = feed_dict_q['images'].shape[0]\n",
    "\n",
    "    for b in range(B):\n",
    "        scene_path = metadata['scene_path'][b]\n",
    "        q_idx = metadata[\"query_image_index\"][b]\n",
    "        k_idx = metadata[\"key_image_index\"][b]\n",
    "        scene_num = metadata[\"scene_number\"][b]\n",
    "\n",
    "        neg_dataset = CLEVR_train_sampleallnegs(scene_path, hyp_N=hyp_N, scene_num=scene_num, query_num=q_idx, key_num=k_idx)\n",
    "        neg_loader = DataLoader(neg_dataset, batch_size=1, shuffle=True, collate_fn=collate_boxes_onlyquery)\n",
    "\n",
    "        if b==0:\n",
    "            views_fetched = 0\n",
    "            feed_dict_n_list = []\n",
    "            \n",
    "            neg_indexes = []\n",
    "            for i in neg_loader:\n",
    "                feed_dict_n, m = i\n",
    "\n",
    "                if (m['index'] == q_idx) or (m['index'] == k_idx):\n",
    "                    continue\n",
    "                feed_dict_n_list.append(feed_dict_n)\n",
    "                neg_indexes.append(m[\"index\"])\n",
    "                #feed_dict_n_list.append([feed_dict_n, m[\"index\"]])\n",
    "                views_fetched += 1\n",
    "\n",
    "                if views_fetched>=views_to_sample:\n",
    "                    break\n",
    "            \n",
    "            negative_views = torch.as_tensor(neg_indexes).reshape(1,-1)\n",
    "\n",
    "        else:\n",
    "            views_fetched = 0\n",
    "            neg_indexes = []\n",
    "            for i in neg_loader:\n",
    "                feed_dict_n, m = i\n",
    "                \n",
    "                if (m['index'] == q_idx) or (m['index'] == k_idx):\n",
    "                    continue\n",
    "                    \n",
    "                neg_indexes.append(m[\"index\"])    \n",
    "                \n",
    "                try:\n",
    "                    feed_dict_n_list[views_fetched][\"images\"] = torch.cat((feed_dict_n_list[views_fetched][\"images\"],feed_dict_n[\"images\"]))\n",
    "                except:\n",
    "                    print(feed_dict_n_list[views_fetched][\"images\"].shape)\n",
    "                    print(feed_dict_n[\"images\"].shape)\n",
    "                try:\n",
    "                    feed_dict_n_list[views_fetched][\"objects\"] = torch.cat((feed_dict_n_list[views_fetched][\"objects\"],feed_dict_n[\"objects\"]))\n",
    "                except:\n",
    "                    print(feed_dict_n_list[views_fetched][\"objects\"])\n",
    "                    print(feed_dict_n[\"objects\"])\n",
    "                feed_dict_n_list[views_fetched][\"objects_boxes\"] = torch.cat((feed_dict_n_list[views_fetched][\"objects_boxes\"],feed_dict_n[\"objects_boxes\"]))\n",
    "                \n",
    "                views_fetched += 1\n",
    "                \n",
    "                if views_fetched>=views_to_sample:\n",
    "                    break\n",
    "\n",
    "            neg_indexes = torch.as_tensor(neg_indexes)\n",
    "            \n",
    "            try:\n",
    "                negative_views = torch.cat((negative_views,neg_indexes.reshape(1,-1)))\n",
    "            except:\n",
    "                print(b,negative_views, neg_indexes)       \n",
    "            \n",
    "    return feed_dict_n_list, negative_views"
   ]
  },
  {
   "cell_type": "code",
   "execution_count": null,
   "metadata": {},
   "outputs": [],
   "source": [
    "# import torch\n",
    "# torch.multiprocessing.set_start_method('spawn')"
   ]
  },
  {
   "cell_type": "code",
   "execution_count": null,
   "metadata": {},
   "outputs": [
    {
     "name": "stdout",
     "output_type": "stream",
     "text": [
      "hello\n"
     ]
    }
   ],
   "source": [
    "import time\n",
    "\n",
    "start = time.time()\n",
    "print(\"hello\")"
   ]
  },
  {
   "cell_type": "code",
   "execution_count": null,
   "metadata": {},
   "outputs": [
    {
     "name": "stdout",
     "output_type": "stream",
     "text": [
      "Initialised..... 234  files...\n"
     ]
    }
   ],
   "source": [
    "query_train_dataset = CLEVR_train(root_dir='/home/mprabhud/dataset/clevr_lang/npys/ab_5t.txt', hyp_N=2)\n",
    "query_train_loader = DataLoader(query_train_dataset, batch_size=4, shuffle=True, collate_fn=collate_boxes, num_workers=0)"
   ]
  },
  {
   "cell_type": "code",
   "execution_count": null,
   "metadata": {},
   "outputs": [],
   "source": [
    "train_iter = iter(query_train_loader)\n",
    "feed_dict_q_, feed_dict_k_, metadata_ = next(train_iter)"
   ]
  },
  {
   "cell_type": "code",
   "execution_count": null,
   "metadata": {},
   "outputs": [],
   "source": [
    "feed_n_list, neg_views = sample_same_scene_negs_(feed_dict_q_, feed_dict_k_, metadata_, 2, views_to_sample = 7)"
   ]
  },
  {
   "cell_type": "code",
   "execution_count": null,
   "metadata": {},
   "outputs": [
    {
     "name": "stdout",
     "output_type": "stream",
     "text": [
      "5.647622346878052\n"
     ]
    }
   ],
   "source": [
    "end = time.time()\n",
    "print(end - start)"
   ]
  },
  {
   "cell_type": "code",
   "execution_count": null,
   "metadata": {},
   "outputs": [
    {
     "name": "stdout",
     "output_type": "stream",
     "text": [
      "tensor([11,  1, 17,  6]) tensor([16, 12, 15,  8])\n"
     ]
    }
   ],
   "source": [
    "q_idx = metadata_[\"query_image_index\"]\n",
    "k_idx = metadata_[\"key_image_index\"]\n",
    "print(q_idx,k_idx)"
   ]
  },
  {
   "cell_type": "code",
   "execution_count": null,
   "metadata": {},
   "outputs": [],
   "source": [
    "for feed_dict_ in feed_n_list:\n",
    "    break"
   ]
  },
  {
   "cell_type": "code",
   "execution_count": null,
   "metadata": {},
   "outputs": [
    {
     "data": {
      "text/plain": [
       "torch.Size([4, 3, 256, 256])"
      ]
     },
     "execution_count": null,
     "metadata": {},
     "output_type": "execute_result"
    }
   ],
   "source": [
    "feed_dict_[\"images\"].shape"
   ]
  },
  {
   "cell_type": "code",
   "execution_count": null,
   "metadata": {},
   "outputs": [],
   "source": []
  }
 ],
 "metadata": {
  "kernelspec": {
   "display_name": "disco",
   "language": "python",
   "name": "disco"
  }
 },
 "nbformat": 4,
 "nbformat_minor": 4
}
