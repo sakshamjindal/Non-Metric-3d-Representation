{
 "cells": [
  {
   "cell_type": "code",
   "execution_count": null,
   "metadata": {},
   "outputs": [],
   "source": [
    "import torch\n",
    "import pickle"
   ]
  },
  {
   "cell_type": "code",
   "execution_count": null,
   "metadata": {},
   "outputs": [],
   "source": [
    "with open(\"../feed_dict.json\",\"rb\") as file:\n",
    "    feed_dict = pickle.load(file)"
   ]
  },
  {
   "cell_type": "code",
   "execution_count": null,
   "metadata": {},
   "outputs": [],
   "source": [
    "feed_dict_q = feed_dict\n",
    "feed_dict_k = feed_dict\n",
    "\n",
    "feed_dict_q[\"view\"] = torch.rand((feed_dict[\"image\"].size(0),1,7))\n",
    "feed_dict_k[\"view\"] = torch.rand((feed_dict[\"image\"].size(0),1,7))"
   ]
  },
  {
   "cell_type": "code",
   "execution_count": null,
   "metadata": {},
   "outputs": [],
   "source": [
    "import sys\n",
    "sys.path.append(\"../\")"
   ]
  },
  {
   "cell_type": "code",
   "execution_count": null,
   "metadata": {},
   "outputs": [],
   "source": [
    "# default_exp model.main"
   ]
  },
  {
   "cell_type": "code",
   "execution_count": null,
   "metadata": {},
   "outputs": [],
   "source": [
    "#export\n",
    "\n",
    "from torchvision.models import resnet34\n",
    "import torch.nn as nn\n",
    "import torch\n",
    "\n",
    "from core.scene_graph.scene_graph import SceneGraph"
   ]
  },
  {
   "cell_type": "code",
   "execution_count": null,
   "metadata": {},
   "outputs": [],
   "source": [
    "#export\n",
    "\n",
    "class Model(nn.Module):\n",
    "    def __init__(self):\n",
    "        super().__init__()\n",
    "        \n",
    "    \n",
    "        self.resnet = resnet34(pretrained=True)\n",
    "        self.feature_extractor = nn.Sequential(*list(resnet.children())[:-3])\n",
    "        self.scene_graph = SceneGraph(feature_dim=256, \n",
    "                                 output_dims=[256,256],\n",
    "                                 downsample_rate=16)\n",
    "        \n",
    "        self.visual_view_point_transformation_layer = nn.Sequential(nn.Linear(263,512),\n",
    "                                                nn.ReLU(),\n",
    "                                                nn.Linear(512,263))\n",
    "\n",
    "        self.spatial_view_point_transformation_layer = nn.Sequential(nn.Linear(263,512),\n",
    "                                                        nn.ReLU(),\n",
    "                                                        nn.Linear(512,263))\n",
    "\n",
    "        ##### To DO : Reset Parameters of \"view_point_transformation_layer\"\n",
    "        self.reset_parameters()\n",
    "        \n",
    "    def forward(self,feed_dict_k, feed_dict_q):\n",
    "    \n",
    "        scene_embeddings_q = self.get_scene_graph(feed_dict_q)\n",
    "        scene_embeddings_k = self.get_scene_graph(feed_dict_k)\n",
    "        \n",
    "        scene_embeddings_q = merge_pose_with_scene_embeddings(scene_embeddings_q, feed_dict_q[\"view\"])\n",
    "        scene_embeddings_k = merge_pose_with_scene_embeddings(scene_embeddings_k, feed_dict_k[\"view\"])\n",
    "        \n",
    "        scene_embeddings_k_transformed = do_viewpoint_transformation(scene_embeddings_k)\n",
    "        \n",
    "        return scene_embeddings_q, scene_embeddings_q, scene_embeddings_k_transformed\n",
    "    \n",
    "\n",
    "    def get_scene_graph(self,feed_dict):\n",
    "        image_features = self.feature_extractor(feed_dict[\"image\"])\n",
    "        outputs = self.scene_graph(image_features, feed_dict[\"objects_boxes\"], feed_dict[\"objects\"])\n",
    "\n",
    "        return outputs\n",
    "    \n",
    "    @staticmethod\n",
    "    def merge_pose_with_scene_embeddings(scene_embeddings, view):\n",
    "\n",
    "        for ind,(visual_embeddings, spatial_embeddings) in enumerate(scene_embeddings):\n",
    "\n",
    "            # Broadcast view to visual embedding dimension\n",
    "            view_visual = view[ind].repeat(visual_embeddings.shape[0],1)\n",
    "            # Concatenate with visual embeddings\n",
    "            pose_with_features = torch.cat((view_visual,visual_embeddings), dim=1)\n",
    "            # Reassign the scene embeddings\n",
    "            scene_embeddings[ind][0] = pose_with_features\n",
    "\n",
    "            # Broadcast view to spatial embedding dimension\n",
    "            view_spatial = view[ind].unsqueeze(0).repeat(spatial_embeddings.shape[0],spatial_embeddings.shape[1],1)\n",
    "            # Concatenate with visual embeddings\n",
    "            pose_with_features = torch.cat((view_spatial,spatial_embeddings), dim=2)\n",
    "            # Reassign the scene embeddings\n",
    "            scene_embeddings[ind][1] = pose_with_features\n",
    "\n",
    "            ### To Do : Write some assertion test : (Saksham)\n",
    "\n",
    "        return scene_embeddings\n",
    "    \n",
    "    @staticmethod  \n",
    "    def do_viewpoint_transformation(scene_embeddings):\n",
    "    \n",
    "        for ind,(visual_embeddings, spatial_embeddings) in enumerate(scene_embeddings):\n",
    "\n",
    "            # Do viewpoint transformation on visual embeddings\n",
    "            scene_embeddings[ind][0] = visual_view_point_transformation_layer(scene_embeddings_k[ind][0])\n",
    "\n",
    "            # Do viewpoint transformation on spatial embeddings\n",
    "            scene_embeddings[ind][1] = spatial_view_point_transformation_layer(scene_embeddings_k[ind][1])\n",
    "\n",
    "        return scene_embeddings\n",
    "    \n",
    "    def reset_parameters(self):\n",
    "        pass"
   ]
  },
  {
   "cell_type": "code",
   "execution_count": null,
   "metadata": {},
   "outputs": [],
   "source": [
    "m = Model()"
   ]
  },
  {
   "cell_type": "code",
   "execution_count": null,
   "metadata": {},
   "outputs": [],
   "source": [
    "outputs = m(feed_dict_k, feed_dict_q)"
   ]
  },
  {
   "cell_type": "code",
   "execution_count": null,
   "metadata": {},
   "outputs": [],
   "source": []
  }
 ],
 "metadata": {
  "kernelspec": {
   "display_name": "disco",
   "language": "python",
   "name": "disco"
  }
 },
 "nbformat": 4,
 "nbformat_minor": 4
}
