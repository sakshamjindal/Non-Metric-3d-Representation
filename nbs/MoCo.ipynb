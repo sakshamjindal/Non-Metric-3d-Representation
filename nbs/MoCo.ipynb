{
 "cells": [
  {
   "cell_type": "code",
   "execution_count": null,
   "metadata": {},
   "outputs": [],
   "source": [
    "import sys\n",
    "sys.path.append(\"../\")"
   ]
  },
  {
   "cell_type": "code",
   "execution_count": null,
   "metadata": {},
   "outputs": [],
   "source": [
    "# default_exp model.model"
   ]
  },
  {
   "cell_type": "code",
   "execution_count": null,
   "metadata": {},
   "outputs": [],
   "source": [
    "#model\n",
    "\n",
    "import torch\n",
    "import torch.nn as nn\n",
    "from random import sample\n",
    "import torch.nn as nn\n",
    "import torch\n",
    "\n",
    "from core.model.encoder import Encoder"
   ]
  },
  {
   "cell_type": "code",
   "execution_count": null,
   "metadata": {},
   "outputs": [],
   "source": [
    "#model\n",
    "\n",
    "class MoCo(nn.Module):\n",
    "    \"\"\"\n",
    "    Build a MoCo model with: a query encoder, a key encoder, and a queue\n",
    "    https://arxiv.org/abs/1911.05722\n",
    "    \"\"\"\n",
    "    def __init__(self, base_encoder=None, dim=256, r=16384, m=0.999, T=0.1, mlp=False):\n",
    "        \"\"\"\n",
    "        dim: feature dimension (default: 128)\n",
    "        r: queue size; number of negative samples/prototypes (default: 16384)\n",
    "        m: momentum for updating key encoder (default: 0.999)\n",
    "        T: softmax temperature \n",
    "        mlp: whether to use mlp projection\n",
    "        \"\"\"\n",
    "        super(MoCo, self).__init__()\n",
    "\n",
    "        self.r = r\n",
    "        self.m = m\n",
    "        self.T = T\n",
    "        \n",
    "\n",
    "        # create the encoders\n",
    "        # num_classes is the output fc dimension\n",
    "#         self.encoder_q = base_encoder(num_classes=dim)\n",
    "#         self.encoder_k = base_encoder(num_classes=dim)\n",
    "\n",
    "#         if mlp:  # hack: brute-force replacement\n",
    "#             dim_mlp = self.encoder_q.fc.weight.shape[1]\n",
    "#             self.encoder_q.fc = nn.Sequential(nn.Linear(dim_mlp, dim_mlp), nn.ReLU(), self.encoder_q.fc)\n",
    "#             self.encoder_k.fc = nn.Sequential(nn.Linear(dim_mlp, dim_mlp), nn.ReLU(), self.encoder_k.fc)\n",
    "\n",
    "        self.encoder_q = Encoder(dim = dim)\n",
    "        self.encoder_k = Encoder(dim = dim)\n",
    "\n",
    "        for param_q, param_k in zip(self.encoder_q.parameters(), self.encoder_k.parameters()):\n",
    "            param_k.data.copy_(param_q.data)  # initialize\n",
    "            param_k.requires_grad = False  # not update by gradient\n",
    "\n",
    "        # create the queue\n",
    "        self.register_buffer(\"queue\", torch.randn(dim, r))\n",
    "        self.queue = nn.functional.normalize(self.queue, dim=0)\n",
    "\n",
    "        self.register_buffer(\"queue_ptr\", torch.zeros(1, dtype=torch.long))\n",
    "\n",
    "    @torch.no_grad()\n",
    "    def _momentum_update_key_encoder(self):\n",
    "        \"\"\"\n",
    "        Momentum update of the key encoder\n",
    "        \"\"\"\n",
    "        for param_q, param_k in zip(self.encoder_q.parameters(), self.encoder_k.parameters()):\n",
    "            param_k.data = param_k.data * self.m + param_q.data * (1. - self.m)\n",
    "\n",
    "    @torch.no_grad()\n",
    "    def _dequeue_and_enqueue(self, keys):\n",
    "\n",
    "        # gather keys before updating queue\n",
    "#         keys = concat_all_gather(keys)\n",
    "\n",
    "        batch_size = keys.shape[0]\n",
    "\n",
    "        ptr = int(self.queue_ptr)\n",
    "        #removes for now\n",
    "#         assert self.r % batch_size == 0  # for simplicity\n",
    "\n",
    "        # replace the keys at ptr (dequeue and enqueue)\n",
    "        self.queue[:, ptr:ptr + batch_size] = keys.T\n",
    "        ptr = (ptr + batch_size) % self.r  # move pointer\n",
    "\n",
    "        self.queue_ptr[0] = ptr\n",
    "\n",
    "    @torch.no_grad()\n",
    "    def _batch_shuffle_ddp(self, x):\n",
    "        \"\"\"\n",
    "        Batch shuffle, for making use of BatchNorm.\n",
    "        *** Only support DistributedDataParallel (DDP) model. ***\n",
    "        \"\"\"\n",
    "        # gather from all gpus\n",
    "        batch_size_this = x.shape[0]\n",
    "        x_gather = concat_all_gather(x)\n",
    "        batch_size_all = x_gather.shape[0]\n",
    "\n",
    "        num_gpus = batch_size_all // batch_size_this\n",
    "\n",
    "        # random shuffle index\n",
    "        idx_shuffle = torch.randperm(batch_size_all).cuda()\n",
    "\n",
    "        # broadcast to all gpus\n",
    "        torch.distributed.broadcast(idx_shuffle, src=0)\n",
    "\n",
    "        # index for restoring\n",
    "        idx_unshuffle = torch.argsort(idx_shuffle)\n",
    "\n",
    "        # shuffled index for this gpu\n",
    "        gpu_idx = torch.distributed.get_rank()\n",
    "        idx_this = idx_shuffle.view(num_gpus, -1)[gpu_idx]\n",
    "\n",
    "        return x_gather[idx_this], idx_unshuffle\n",
    "\n",
    "    @torch.no_grad()\n",
    "    def _batch_unshuffle_ddp(self, x, idx_unshuffle):\n",
    "        \"\"\"\n",
    "        Undo batch shuffle.\n",
    "        *** Only support DistributedDataParallel (DDP) model. ***\n",
    "        \"\"\"\n",
    "        # gather from all gpus\n",
    "        batch_size_this = x.shape[0]\n",
    "        x_gather = concat_all_gather(x)\n",
    "        batch_size_all = x_gather.shape[0]\n",
    "\n",
    "        num_gpus = batch_size_all // batch_size_this\n",
    "\n",
    "        # restored index for this gpu\n",
    "        gpu_idx = torch.distributed.get_rank()\n",
    "        idx_this = idx_unshuffle.view(num_gpus, -1)[gpu_idx]\n",
    "\n",
    "        return x_gather[idx_this]\n",
    "\n",
    "    def forward(self, feed_dict_q, feed_dict_k=None, is_eval=False, cluster_result=None, index=None):\n",
    "        \"\"\"\n",
    "        Input:\n",
    "            feed_dict_q: a batch of query images and bounding boxes\n",
    "            feed_dict_k: a batch of key images and bounding boxes\n",
    "            is_eval: return momentum embeddings (used for clustering)\n",
    "            cluster_result: cluster assignments, centroids, and density\n",
    "            index: indices for training samples\n",
    "        Output:\n",
    "            logits, targets, proto_logits, proto_targets\n",
    "        \"\"\"\n",
    "        \n",
    "        if is_eval:\n",
    "            _, k, __ = self.encoder_k(feed_dict_q)  \n",
    "            k = nn.functional.normalize(k, dim=1)            \n",
    "            return k\n",
    "        \n",
    "        # compute key features\n",
    "        with torch.no_grad():  # no gradient to keys\n",
    "            self._momentum_update_key_encoder()  # update the key encoder\n",
    "\n",
    "#             # shuffle for making use of BN\n",
    "#             im_k, idx_unshuffle = self._batch_shuffle_ddp(im_k)\n",
    "\n",
    "            _, k, __ = self.encoder_k(feed_dict_k)  # keys: NxC\n",
    "            k = nn.functional.normalize(k, dim=1)    # not needed scene graph does that already\n",
    "\n",
    "#             # undo shuffle\n",
    "#             k = self._batch_unshuffle_ddp(k, idx_unshuffle)\n",
    "\n",
    "        # compute query features\n",
    "        _, q, __ = self.encoder_q(feed_dict_q)  # queries: NxC\n",
    "        q = nn.functional.normalize(q, dim=1)\n",
    "        \n",
    "        # compute logits\n",
    "        # Einstein sum is more intuitive\n",
    "        # positive logits: Nx1\n",
    "        l_pos = torch.einsum('nc,nc->n', [q, k]).unsqueeze(-1)\n",
    "        # negative logits: Nxr\n",
    "        l_neg = torch.einsum('nc,ck->nk', [q, self.queue.clone().detach()])\n",
    "\n",
    "        # logits: Nx(1+r)\n",
    "        logits = torch.cat([l_pos, l_neg], dim=1)\n",
    "\n",
    "        # apply temperature\n",
    "        logits /= self.T\n",
    "\n",
    "        # labels: positive key indicators\n",
    "        labels = torch.zeros(logits.shape[0], dtype=torch.long).cuda()\n",
    "\n",
    "        # dequeue and enqueue\n",
    "        self._dequeue_and_enqueue(k)\n",
    "        \n",
    "        # prototypical contrast\n",
    "        if cluster_result is not None:  \n",
    "            proto_labels = []\n",
    "            proto_logits = []\n",
    "            for n, (im2cluster,prototypes,density) in enumerate(zip(cluster_result['im2cluster'],cluster_result['centroids'],cluster_result['density'])):\n",
    "                # get positive prototypes\n",
    "                pos_proto_id = im2cluster[index]\n",
    "                pos_prototypes = prototypes[pos_proto_id]    \n",
    "                \n",
    "                # sample negative prototypes\n",
    "                all_proto_id = [i for i in range(im2cluster.max())]       \n",
    "                neg_proto_id = set(all_proto_id)-set(pos_proto_id.tolist())\n",
    "                neg_proto_id = sample(neg_proto_id,self.r) #sample r negative prototypes \n",
    "                neg_prototypes = prototypes[neg_proto_id]    \n",
    "\n",
    "                proto_selected = torch.cat([pos_prototypes,neg_prototypes],dim=0)\n",
    "                \n",
    "                # compute prototypical logits\n",
    "                logits_proto = torch.mm(q,proto_selected.t())\n",
    "                \n",
    "                # targets for prototype assignment\n",
    "                labels_proto = torch.linspace(0, q.size(0)-1, steps=q.size(0)).long().cuda()\n",
    "                \n",
    "                # scaling temperatures for the selected prototypes\n",
    "                temp_proto = density[torch.cat([pos_proto_id,torch.LongTensor(neg_proto_id).cuda()],dim=0)]  \n",
    "                logits_proto /= temp_proto\n",
    "                \n",
    "                proto_labels.append(labels_proto)\n",
    "                proto_logits.append(logits_proto)\n",
    "            return logits, labels, proto_logits, proto_labels\n",
    "        else:\n",
    "            return logits, labels, None, None\n",
    "\n",
    "\n",
    "# utils\n",
    "@torch.no_grad()\n",
    "def concat_all_gather(tensor):\n",
    "    \"\"\"\n",
    "    Performs all_gather operation on the provided tensors.\n",
    "    *** Warning ***: torch.distributed.all_gather has no gradient.\n",
    "    \"\"\"\n",
    "    tensors_gather = [torch.ones_like(tensor)\n",
    "        for _ in range(torch.distributed.get_world_size())]\n",
    "    torch.distributed.all_gather(tensors_gather, tensor, async_op=False)\n",
    "\n",
    "    output = torch.cat(tensors_gather, dim=0)\n",
    "    return output\n"
   ]
  },
  {
   "cell_type": "code",
   "execution_count": null,
   "metadata": {},
   "outputs": [],
   "source": [
    "import warnings\n",
    "warnings.filterwarnings(\"ignore\")\n",
    "\n",
    "import torch\n",
    "from torch.utils.data import Dataset, DataLoader\n",
    "from core.dataloader import GQNDataset_pdisco, collate_boxes"
   ]
  },
  {
   "cell_type": "code",
   "execution_count": null,
   "metadata": {},
   "outputs": [
    {
     "name": "stdout",
     "output_type": "stream",
     "text": [
      "Initialised..... 27495  files...\n"
     ]
    }
   ],
   "source": [
    "train_dataset = GQNDataset_pdisco(root_dir='/home/mprabhud/dataset/clevr_veggies/npys/be_lt.txt')\n",
    "train_loader = DataLoader(train_dataset, batch_size=5, shuffle=True, collate_fn=collate_boxes)"
   ]
  },
  {
   "cell_type": "code",
   "execution_count": null,
   "metadata": {},
   "outputs": [],
   "source": [
    "for b in train_loader:\n",
    "    feed_dict_q, feed_dict_k, metadata = b\n",
    "    break"
   ]
  },
  {
   "cell_type": "code",
   "execution_count": null,
   "metadata": {},
   "outputs": [],
   "source": [
    "feed_dict_k[\"images\"] = feed_dict_k[\"images\"].cuda()\n",
    "feed_dict_q[\"images\"] = feed_dict_q[\"images\"].cuda()"
   ]
  },
  {
   "cell_type": "code",
   "execution_count": null,
   "metadata": {},
   "outputs": [],
   "source": [
    "model = MoCo()\n",
    "model = model.cuda()"
   ]
  },
  {
   "cell_type": "code",
   "execution_count": null,
   "metadata": {},
   "outputs": [],
   "source": [
    "outputs = model(feed_dict_q, feed_dict_k)"
   ]
  },
  {
   "cell_type": "code",
   "execution_count": null,
   "metadata": {},
   "outputs": [
    {
     "data": {
      "text/plain": [
       "(tensor([[ 4.7918,  0.3855, -0.4694,  ..., -0.1715,  0.0989,  0.2826],\n",
       "         [ 6.9984,  0.5304, -0.6606,  ..., -0.8775,  0.5560,  0.1995],\n",
       "         [ 6.9984,  0.5304, -0.6606,  ..., -0.8775,  0.5560,  0.1995],\n",
       "         ...,\n",
       "         [ 4.7955,  0.9802, -0.0634,  ..., -1.1479,  0.3556,  1.0232],\n",
       "         [ 4.4394,  0.9802, -0.0634,  ..., -1.1479,  0.3556,  1.0232],\n",
       "         [ 5.5887,  0.2923, -0.3802,  ..., -0.9283, -0.3126,  0.4356]],\n",
       "        device='cuda:0', grad_fn=<DivBackward0>),\n",
       " tensor([0, 0, 0, 0, 0, 0, 0, 0, 0, 0, 0, 0, 0, 0, 0], device='cuda:0'),\n",
       " None,\n",
       " None)"
      ]
     },
     "execution_count": null,
     "metadata": {},
     "output_type": "execute_result"
    }
   ],
   "source": [
    "outputs"
   ]
  },
  {
   "cell_type": "code",
   "execution_count": null,
   "metadata": {},
   "outputs": [
    {
     "data": {
      "text/plain": [
       "dict_keys(['images', 'objects', 'objects_boxes', 'view'])"
      ]
     },
     "execution_count": null,
     "metadata": {},
     "output_type": "execute_result"
    }
   ],
   "source": [
    "feed_dict_q.keys()"
   ]
  },
  {
   "cell_type": "code",
   "execution_count": null,
   "metadata": {},
   "outputs": [
    {
     "data": {
      "text/plain": [
       "torch.Size([15, 4])"
      ]
     },
     "execution_count": null,
     "metadata": {},
     "output_type": "execute_result"
    }
   ],
   "source": [
    "feed_dict_k[\"objects_boxes\"].shape"
   ]
  },
  {
   "cell_type": "code",
   "execution_count": null,
   "metadata": {},
   "outputs": [
    {
     "data": {
      "text/plain": [
       "torch.Size([5, 3, 256, 256])"
      ]
     },
     "execution_count": null,
     "metadata": {},
     "output_type": "execute_result"
    }
   ],
   "source": [
    "feed_dict_k[\"images\"].shape"
   ]
  },
  {
   "cell_type": "code",
   "execution_count": null,
   "metadata": {},
   "outputs": [],
   "source": [
    "feed_dict_k[\"images\"] = torch.rand((5, 3, 256, 384))"
   ]
  },
  {
   "cell_type": "code",
   "execution_count": null,
   "metadata": {},
   "outputs": [],
   "source": [
    "feed_dict_q[\"images\"] = torch.rand((5, 3, 256, 384))"
   ]
  },
  {
   "cell_type": "code",
   "execution_count": null,
   "metadata": {},
   "outputs": [
    {
     "data": {
      "text/plain": [
       "tensor([[ 82.7502,   0.0000, 163.7342,   0.0000],\n",
       "        [104.9818,   0.0000, 152.8877,   0.0000],\n",
       "        [ 87.1218,   0.0000, 149.3486,   0.0000],\n",
       "        [255.0000,  69.7427, 255.0000, 124.0020],\n",
       "        [255.0000,  82.1422, 255.0000, 127.0757],\n",
       "        [255.0000, 107.3452, 255.0000, 206.2461],\n",
       "        [  0.0000,   0.0000,   0.0000,  20.7141],\n",
       "        [  0.0000,   0.0000,   7.5103,  25.6727],\n",
       "        [  2.0656,   0.0000,  81.2577,   5.7856],\n",
       "        [255.0000,   0.0000, 255.0000,   8.3311],\n",
       "        [226.3104,   0.0000, 255.0000,   0.0000],\n",
       "        [255.0000,   0.0000, 255.0000,  37.2964],\n",
       "        [  0.0000,   0.0000,  75.9146,  42.3128],\n",
       "        [  0.0000,   0.0000,  10.0282,  46.0512],\n",
       "        [  0.0000,   6.3393,   0.0000,  43.8361]], device='cuda:0')"
      ]
     },
     "execution_count": null,
     "metadata": {},
     "output_type": "execute_result"
    }
   ],
   "source": [
    "feed_dict_k[\"objects_boxes\"]"
   ]
  },
  {
   "cell_type": "code",
   "execution_count": null,
   "metadata": {},
   "outputs": [
    {
     "data": {
      "text/plain": [
       "tensor([[[[0.4157, 0.4275, 0.4275,  ..., 0.4314, 0.4314, 0.4392],\n",
       "          [0.4235, 0.4235, 0.4275,  ..., 0.4392, 0.4392, 0.4471],\n",
       "          [0.4235, 0.4235, 0.4275,  ..., 0.4392, 0.4392, 0.4471],\n",
       "          ...,\n",
       "          [0.4627, 0.4667, 0.4627,  ..., 0.4471, 0.4471, 0.4471],\n",
       "          [0.4627, 0.4627, 0.4627,  ..., 0.4471, 0.4471, 0.4471],\n",
       "          [0.4667, 0.4627, 0.4627,  ..., 0.4471, 0.4471, 0.4431]],\n",
       "\n",
       "         [[0.4157, 0.4275, 0.4275,  ..., 0.4314, 0.4314, 0.4392],\n",
       "          [0.4235, 0.4235, 0.4275,  ..., 0.4392, 0.4392, 0.4471],\n",
       "          [0.4235, 0.4235, 0.4275,  ..., 0.4392, 0.4392, 0.4471],\n",
       "          ...,\n",
       "          [0.4627, 0.4667, 0.4588,  ..., 0.4471, 0.4471, 0.4471],\n",
       "          [0.4627, 0.4627, 0.4588,  ..., 0.4471, 0.4471, 0.4471],\n",
       "          [0.4627, 0.4627, 0.4627,  ..., 0.4471, 0.4471, 0.4431]],\n",
       "\n",
       "         [[0.4157, 0.4275, 0.4275,  ..., 0.4275, 0.4314, 0.4392],\n",
       "          [0.4235, 0.4235, 0.4275,  ..., 0.4353, 0.4392, 0.4471],\n",
       "          [0.4235, 0.4235, 0.4275,  ..., 0.4353, 0.4392, 0.4471],\n",
       "          ...,\n",
       "          [0.4588, 0.4627, 0.4549,  ..., 0.4471, 0.4471, 0.4471],\n",
       "          [0.4588, 0.4588, 0.4549,  ..., 0.4471, 0.4471, 0.4471],\n",
       "          [0.4588, 0.4588, 0.4588,  ..., 0.4471, 0.4471, 0.4431]]],\n",
       "\n",
       "\n",
       "        [[[0.7176, 0.7294, 0.7333,  ..., 0.7137, 0.7098, 0.7098],\n",
       "          [0.7333, 0.7255, 0.7333,  ..., 0.7137, 0.7059, 0.7176],\n",
       "          [0.7333, 0.7294, 0.7294,  ..., 0.7059, 0.7216, 0.7255],\n",
       "          ...,\n",
       "          [0.7882, 0.7961, 0.7843,  ..., 0.7961, 0.8000, 0.8039],\n",
       "          [0.7922, 0.7922, 0.7922,  ..., 0.8039, 0.8078, 0.8039],\n",
       "          [0.7843, 0.8000, 0.7922,  ..., 0.8078, 0.8039, 0.7961]],\n",
       "\n",
       "         [[0.7176, 0.7294, 0.7333,  ..., 0.7137, 0.7098, 0.7098],\n",
       "          [0.7294, 0.7255, 0.7333,  ..., 0.7137, 0.7059, 0.7176],\n",
       "          [0.7333, 0.7294, 0.7294,  ..., 0.7059, 0.7216, 0.7255],\n",
       "          ...,\n",
       "          [0.7882, 0.7961, 0.7843,  ..., 0.7961, 0.7961, 0.8039],\n",
       "          [0.7922, 0.7922, 0.7922,  ..., 0.8000, 0.8078, 0.8000],\n",
       "          [0.7843, 0.8000, 0.7922,  ..., 0.8078, 0.8039, 0.7961]],\n",
       "\n",
       "         [[0.7176, 0.7294, 0.7333,  ..., 0.7137, 0.7098, 0.7098],\n",
       "          [0.7294, 0.7255, 0.7333,  ..., 0.7137, 0.7059, 0.7176],\n",
       "          [0.7333, 0.7294, 0.7294,  ..., 0.7059, 0.7216, 0.7255],\n",
       "          ...,\n",
       "          [0.7882, 0.7961, 0.7843,  ..., 0.7961, 0.7961, 0.8000],\n",
       "          [0.7922, 0.7961, 0.7961,  ..., 0.8000, 0.8039, 0.8000],\n",
       "          [0.7843, 0.8000, 0.7961,  ..., 0.8039, 0.8000, 0.7922]]],\n",
       "\n",
       "\n",
       "        [[[0.6824, 0.6980, 0.6980,  ..., 0.6863, 0.6824, 0.6941],\n",
       "          [0.6980, 0.6980, 0.7020,  ..., 0.6941, 0.6941, 0.7059],\n",
       "          [0.6941, 0.6941, 0.7020,  ..., 0.6902, 0.6980, 0.7059],\n",
       "          ...,\n",
       "          [0.9333, 0.9333, 0.9294,  ..., 0.7725, 0.7725, 0.7725],\n",
       "          [0.9294, 0.9294, 0.9294,  ..., 0.7725, 0.7686, 0.7725],\n",
       "          [0.9255, 0.9255, 0.9216,  ..., 0.7765, 0.7765, 0.7686]],\n",
       "\n",
       "         [[0.6824, 0.6980, 0.6980,  ..., 0.6863, 0.6824, 0.6902],\n",
       "          [0.6941, 0.6980, 0.6980,  ..., 0.6941, 0.6941, 0.7059],\n",
       "          [0.6902, 0.6941, 0.7020,  ..., 0.6902, 0.6941, 0.7059],\n",
       "          ...,\n",
       "          [0.9216, 0.9216, 0.9176,  ..., 0.7686, 0.7725, 0.7686],\n",
       "          [0.9176, 0.9176, 0.9137,  ..., 0.7725, 0.7686, 0.7725],\n",
       "          [0.9137, 0.9137, 0.9098,  ..., 0.7725, 0.7765, 0.7647]],\n",
       "\n",
       "         [[0.6784, 0.6941, 0.6941,  ..., 0.6824, 0.6784, 0.6902],\n",
       "          [0.6902, 0.6941, 0.6941,  ..., 0.6902, 0.6902, 0.7020],\n",
       "          [0.6902, 0.6902, 0.6980,  ..., 0.6863, 0.6941, 0.7059],\n",
       "          ...,\n",
       "          [0.8980, 0.8980, 0.8941,  ..., 0.7686, 0.7686, 0.7686],\n",
       "          [0.8941, 0.8941, 0.8902,  ..., 0.7686, 0.7647, 0.7686],\n",
       "          [0.8902, 0.8902, 0.8863,  ..., 0.7686, 0.7725, 0.7608]]],\n",
       "\n",
       "\n",
       "        [[[0.6039, 0.6275, 0.6275,  ..., 0.6353, 0.6392, 0.6353],\n",
       "          [0.6196, 0.6118, 0.6196,  ..., 0.6431, 0.6431, 0.6510],\n",
       "          [0.6196, 0.6235, 0.6235,  ..., 0.6392, 0.6431, 0.6549],\n",
       "          ...,\n",
       "          [0.7020, 0.7098, 0.7020,  ..., 0.6902, 0.6902, 0.6902],\n",
       "          [0.7020, 0.7059, 0.7020,  ..., 0.6941, 0.6902, 0.6863],\n",
       "          [0.7059, 0.7059, 0.7020,  ..., 0.6980, 0.6902, 0.6824]],\n",
       "\n",
       "         [[0.6039, 0.6235, 0.6235,  ..., 0.6353, 0.6353, 0.6353],\n",
       "          [0.6196, 0.6118, 0.6196,  ..., 0.6392, 0.6431, 0.6471],\n",
       "          [0.6157, 0.6196, 0.6235,  ..., 0.6392, 0.6431, 0.6510],\n",
       "          ...,\n",
       "          [0.7020, 0.7059, 0.6980,  ..., 0.6902, 0.6863, 0.6902],\n",
       "          [0.6980, 0.7020, 0.6980,  ..., 0.6902, 0.6902, 0.6863],\n",
       "          [0.7020, 0.7059, 0.6980,  ..., 0.6941, 0.6902, 0.6824]],\n",
       "\n",
       "         [[0.6039, 0.6235, 0.6235,  ..., 0.6314, 0.6353, 0.6314],\n",
       "          [0.6196, 0.6118, 0.6196,  ..., 0.6353, 0.6392, 0.6471],\n",
       "          [0.6157, 0.6196, 0.6196,  ..., 0.6353, 0.6392, 0.6510],\n",
       "          ...,\n",
       "          [0.6980, 0.7059, 0.6980,  ..., 0.6863, 0.6863, 0.6902],\n",
       "          [0.6980, 0.7020, 0.6980,  ..., 0.6902, 0.6902, 0.6863],\n",
       "          [0.6980, 0.7020, 0.6980,  ..., 0.6941, 0.6902, 0.6784]]],\n",
       "\n",
       "\n",
       "        [[[0.5216, 0.5373, 0.5373,  ..., 0.5294, 0.5294, 0.5373],\n",
       "          [0.5333, 0.5373, 0.5373,  ..., 0.5412, 0.5412, 0.5490],\n",
       "          [0.5333, 0.5294, 0.5373,  ..., 0.5412, 0.5373, 0.5490],\n",
       "          ...,\n",
       "          [0.7569, 0.7569, 0.7529,  ..., 0.6235, 0.6235, 0.6235],\n",
       "          [0.7529, 0.7569, 0.7529,  ..., 0.6235, 0.6196, 0.6275],\n",
       "          [0.7490, 0.7529, 0.7451,  ..., 0.6275, 0.6275, 0.6196]],\n",
       "\n",
       "         [[0.5216, 0.5333, 0.5333,  ..., 0.5294, 0.5294, 0.5373],\n",
       "          [0.5333, 0.5333, 0.5373,  ..., 0.5373, 0.5412, 0.5490],\n",
       "          [0.5333, 0.5294, 0.5373,  ..., 0.5373, 0.5373, 0.5490],\n",
       "          ...,\n",
       "          [0.7451, 0.7451, 0.7412,  ..., 0.6196, 0.6235, 0.6235],\n",
       "          [0.7412, 0.7451, 0.7412,  ..., 0.6235, 0.6196, 0.6235],\n",
       "          [0.7412, 0.7412, 0.7373,  ..., 0.6235, 0.6275, 0.6196]],\n",
       "\n",
       "         [[0.5176, 0.5333, 0.5333,  ..., 0.5294, 0.5255, 0.5373],\n",
       "          [0.5294, 0.5333, 0.5333,  ..., 0.5373, 0.5373, 0.5451],\n",
       "          [0.5294, 0.5294, 0.5333,  ..., 0.5373, 0.5373, 0.5490],\n",
       "          ...,\n",
       "          [0.7255, 0.7255, 0.7216,  ..., 0.6157, 0.6196, 0.6196],\n",
       "          [0.7216, 0.7255, 0.7216,  ..., 0.6196, 0.6157, 0.6196],\n",
       "          [0.7216, 0.7216, 0.7176,  ..., 0.6235, 0.6235, 0.6157]]]])"
      ]
     },
     "execution_count": null,
     "metadata": {},
     "output_type": "execute_result"
    }
   ],
   "source": [
    "feed_dict_k[\"images\"]"
   ]
  },
  {
   "cell_type": "code",
   "execution_count": null,
   "metadata": {},
   "outputs": [
    {
     "data": {
      "text/plain": [
       "tensor([[135.1649,   0.0000, 161.1292,  31.9892],\n",
       "        [ 82.1292,  19.1714,  98.9613,  55.6602],\n",
       "        [109.6565,   0.0000, 136.7068,  40.1612],\n",
       "        [ 83.2603,   0.0000, 112.0836,   0.0000],\n",
       "        [149.3388,   0.0000, 195.2714,  22.0639],\n",
       "        [142.0847,   0.0000, 156.1275,   0.0000],\n",
       "        [  0.0000,  14.8198,   0.0000,  61.5764],\n",
       "        [ 43.6216,  14.2285,  78.9726,  52.6959],\n",
       "        [  0.0000,  18.6559,   2.4447,  67.6315],\n",
       "        [ 44.2445, 255.0000, 214.4792, 255.0000],\n",
       "        [220.5551, 255.0000, 255.0000, 255.0000],\n",
       "        [  0.0000, 255.0000,  94.6047, 255.0000],\n",
       "        [  0.0000,  86.0737,   0.0000, 147.6474],\n",
       "        [  0.0000,  69.2935,   0.0000, 108.4176],\n",
       "        [  0.0000, 116.3612,   0.0000, 179.0138]], device='cuda:0')"
      ]
     },
     "execution_count": null,
     "metadata": {},
     "output_type": "execute_result"
    }
   ],
   "source": [
    "feed_dict_k[\"objects_boxes\"]"
   ]
  },
  {
   "cell_type": "code",
   "execution_count": null,
   "metadata": {},
   "outputs": [],
   "source": []
  }
 ],
 "metadata": {
  "kernelspec": {
   "display_name": "disco",
   "language": "python",
   "name": "disco"
  }
 },
 "nbformat": 4,
 "nbformat_minor": 4
}
