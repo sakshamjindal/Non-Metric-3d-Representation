{
 "cells": [
  {
   "cell_type": "code",
   "execution_count": null,
   "metadata": {},
   "outputs": [],
   "source": [
    "%load_ext autoreload\n",
    "%autoreload 2"
   ]
  },
  {
   "cell_type": "code",
   "execution_count": null,
   "metadata": {},
   "outputs": [],
   "source": [
    "import sys\n",
    "sys.path.insert(0,\"../\")"
   ]
  },
  {
   "cell_type": "code",
   "execution_count": null,
   "metadata": {},
   "outputs": [],
   "source": [
    "# default_exp model.model"
   ]
  },
  {
   "cell_type": "code",
   "execution_count": null,
   "metadata": {},
   "outputs": [],
   "source": [
    "#export\n",
    "\n",
    "import torch\n",
    "import torch.nn as nn\n",
    "from random import sample\n",
    "import torch.nn as nn\n",
    "import torch\n",
    "\n",
    "from core.model.encoder import Encoder"
   ]
  },
  {
   "cell_type": "code",
   "execution_count": null,
   "metadata": {},
   "outputs": [],
   "source": [
    "import warnings\n",
    "warnings.filterwarnings(\"ignore\")\n",
    "\n",
    "import torch\n",
    "from torch.utils.data import Dataset, DataLoader\n",
    "from core.dataloader import CLEVR_train, collate_boxes, CLEVR_train_onlyquery, collate_boxes_onlyquery\n",
    "from core.model.utils import pair_embeddings, stack_features_across_batch"
   ]
  },
  {
   "cell_type": "code",
   "execution_count": null,
   "metadata": {},
   "outputs": [
    {
     "name": "stdout",
     "output_type": "stream",
     "text": [
      "Initialised..... 234  files...\n"
     ]
    }
   ],
   "source": [
    "train_dataset = CLEVR_train(root_dir='/home/mprabhud/dataset/clevr_lang/npys/ab_5t.txt')\n",
    "train_loader = DataLoader(train_dataset, batch_size=5, shuffle=True, collate_fn=collate_boxes)"
   ]
  },
  {
   "cell_type": "code",
   "execution_count": null,
   "metadata": {},
   "outputs": [],
   "source": [
    "for b in train_loader:\n",
    "    feed_dict_q_, feed_dict_k_, metadata_ = b\n",
    "    break"
   ]
  },
  {
   "cell_type": "code",
   "execution_count": null,
   "metadata": {},
   "outputs": [],
   "source": [
    "feed_dict_q_[\"images\"] = feed_dict_q_[\"images\"].cuda()\n",
    "feed_dict_k_[\"images\"] = feed_dict_k_[\"images\"].cuda()"
   ]
  },
  {
   "cell_type": "code",
   "execution_count": null,
   "metadata": {},
   "outputs": [
    {
     "ename": "SyntaxError",
     "evalue": "positional argument follows keyword argument (<ipython-input-21-2c626a252741>, line 32)",
     "output_type": "error",
     "traceback": [
      "\u001b[0;36m  File \u001b[0;32m\"<ipython-input-21-2c626a252741>\"\u001b[0;36m, line \u001b[0;32m32\u001b[0m\n\u001b[0;31m    self.encoder_q = Encoder(dim = dim, self.mode)\u001b[0m\n\u001b[0m                                       ^\u001b[0m\n\u001b[0;31mSyntaxError\u001b[0m\u001b[0;31m:\u001b[0m positional argument follows keyword argument\n"
     ]
    }
   ],
   "source": [
    "#export\n",
    "class MoCo(nn.Module):\n",
    "    \"\"\"\n",
    "    Build a MoCo model with: a query encoder, a key encoder, and a queue\n",
    "    https://arxiv.org/abs/1911.05722\n",
    "    \"\"\"\n",
    "    def __init__(self, base_encoder=None, dim=256, r=35, m=0.999, T=0.1, mlp=False):\n",
    "        \"\"\"\n",
    "        dim: feature dimension (default: 128)\n",
    "        r: queue size; number of negative samples/prototypes (default: 16384)\n",
    "        m: momentum for updating key encoder (default: 0.999)\n",
    "        T: softmax temperature \n",
    "        mlp: whether to use mlp projection\n",
    "        \"\"\"\n",
    "        super(MoCo, self).__init__()\n",
    "\n",
    "        self.r = r\n",
    "        self.m = m\n",
    "        self.T = T\n",
    "        self.mode=None\n",
    "        \n",
    "\n",
    "        # create the encoders\n",
    "        # num_classes is the output fc dimension\n",
    "#         self.encoder_q = base_encoder(num_classes=dim)\n",
    "#         self.encoder_k = base_encoder(num_classes=dim)\n",
    "\n",
    "#         if mlp:  # hack: brute-force replacement\n",
    "#             dim_mlp = self.encoder_q.fc.weight.shape[1]\n",
    "#             self.encoder_q.fc = nn.Sequential(nn.Linear(dim_mlp, dim_mlp), nn.ReLU(), self.encoder_q.fc)\n",
    "#             self.encoder_k.fc = nn.Sequential(nn.Linear(dim_mlp, dim_mlp), nn.ReLU(), self.encoder_k.fc)\n",
    "\n",
    "        self.encoder_q = Encoder(dim = dim)\n",
    "        self.encoder_k = Encoder(dim = dim)\n",
    "\n",
    "        for param_q, param_k in zip(self.encoder_q.parameters(), self.encoder_k.parameters()):\n",
    "            param_k.data.copy_(param_q.data)  # initialize\n",
    "            param_k.requires_grad = False  # not update by gradient\n",
    "\n",
    "        # create the queue\n",
    "        self.register_buffer(\"queue\", torch.randn(dim, r))\n",
    "        self.queue = nn.functional.normalize(self.queue, dim=0)\n",
    "\n",
    "        self.register_buffer(\"queue_ptr\", torch.zeros(1, dtype=torch.long))\n",
    "\n",
    "    @torch.no_grad()\n",
    "    def _momentum_update_key_encoder(self):\n",
    "        \"\"\"\n",
    "        Momentum update of the key encoder\n",
    "        \"\"\"\n",
    "        for param_q, param_k in zip(self.encoder_q.parameters(), self.encoder_k.parameters()):\n",
    "            param_k.data = param_k.data * self.m + param_q.data * (1. - self.m)\n",
    "\n",
    "    @torch.no_grad()\n",
    "    def _dequeue_and_enqueue(self, keys):\n",
    "\n",
    "        # gather keys before updating queue\n",
    "#         keys = concat_all_gather(keys)\n",
    "\n",
    "        batch_size = keys.shape[0]\n",
    "\n",
    "        ptr = int(self.queue_ptr)\n",
    "        #removes for now\n",
    "#         assert self.r % batch_size == 0  # for simplicity\n",
    "\n",
    "        # replace the keys at ptr (dequeue and enqueue)\n",
    "        self.queue[:, ptr:ptr + batch_size] = keys.T\n",
    "        ptr = (ptr + batch_size) % self.r  # move pointer\n",
    "\n",
    "        self.queue_ptr[0] = ptr\n",
    "\n",
    "    @torch.no_grad()\n",
    "    def _batch_shuffle_ddp(self, x):\n",
    "        \"\"\"\n",
    "        Batch shuffle, for making use of BatchNorm.\n",
    "        *** Only support DistributedDataParallel (DDP) model. ***\n",
    "        \"\"\"\n",
    "        # gather from all gpus\n",
    "        batch_size_this = x.shape[0]\n",
    "        x_gather = concat_all_gather(x)\n",
    "        batch_size_all = x_gather.shape[0]\n",
    "\n",
    "        num_gpus = batch_size_all // batch_size_this\n",
    "\n",
    "        # random shuffle index\n",
    "        idx_shuffle = torch.randperm(batch_size_all).cuda()\n",
    "\n",
    "        # broadcast to all gpus\n",
    "        torch.distributed.broadcast(idx_shuffle, src=0)\n",
    "\n",
    "        # index for restoring\n",
    "        idx_unshuffle = torch.argsort(idx_shuffle)\n",
    "\n",
    "        # shuffled index for this gpu\n",
    "        gpu_idx = torch.distributed.get_rank()\n",
    "        idx_this = idx_shuffle.view(num_gpus, -1)[gpu_idx]\n",
    "\n",
    "        return x_gather[idx_this], idx_unshuffle\n",
    "\n",
    "    @torch.no_grad()\n",
    "    def _batch_unshuffle_ddp(self, x, idx_unshuffle):\n",
    "        \"\"\"\n",
    "        Undo batch shuffle.\n",
    "        *** Only support DistributedDataParallel (DDP) model. ***\n",
    "        \"\"\"\n",
    "        # gather from all gpus\n",
    "        batch_size_this = x.shape[0]\n",
    "        x_gather = concat_all_gather(x)\n",
    "        batch_size_all = x_gather.shape[0]\n",
    "\n",
    "        num_gpus = batch_size_all // batch_size_this\n",
    "\n",
    "        # restored index for this gpu\n",
    "        gpu_idx = torch.distributed.get_rank()\n",
    "        idx_this = idx_unshuffle.view(num_gpus, -1)[gpu_idx]\n",
    "\n",
    "        return x_gather[idx_this]\n",
    "\n",
    "    def forward(self, feed_dict_q, feed_dict_k=None, metadata=None, is_eval=False, cluster_result=None, index=None, mode=\"node\"):\n",
    "        \"\"\"\n",
    "        Input:\n",
    "            feed_dict_q: a batch of query images and bounding boxes\n",
    "            feed_dict_k: a batch of key images and bounding boxes\n",
    "            is_eval: return momentum embeddings (used for clustering)\n",
    "            cluster_result: cluster assignments, centroids, and density\n",
    "            index: indices for training samples\n",
    "            mode : should be either 'node' or 'spatial' depending on whether training for node or spatial embeddings\n",
    "        Output:\n",
    "            logits, targets, proto_logits, proto_targets\n",
    "        \"\"\"\n",
    "        \n",
    "        if mode==\"node\":\n",
    "            rel_viewpoint=None    \n",
    "        \n",
    "        if is_eval:\n",
    "            # the output from encoder is a list of features from the batch where each batch element (image)\n",
    "            # might contain different number of objects\n",
    "            k = self.encoder_k(feed_dict_q, mode) \n",
    "            \n",
    "            # encoder output features in the list are stacked to form a tensor of features across the batch\n",
    "            k = stack_features_across_batch(k)\n",
    "            \n",
    "            # normalize feature across the batch\n",
    "            k = nn.functional.normalize(k, dim=1)            \n",
    "            return k\n",
    "        \n",
    "        rel_viewpoint = metadata[\"rel_viewpoint\"]\n",
    "        \n",
    "        if mode==\"node\":\n",
    "            rel_viewpoint=None\n",
    "        \n",
    "        # compute key features\n",
    "        with torch.no_grad():  # no gradient to keys\n",
    "            self._momentum_update_key_encoder()  # update the key encoder\n",
    "\n",
    "#             # shuffle for making use of BN\n",
    "#             im_k, idx_unshuffle = self._batch_shuffle_ddp(im_k)\n",
    "\n",
    "            k_outputs = self.encoder_k(feed_dict_k, mode, rel_viewpoint)  \n",
    "            #k = nn.functional.normalize(k, dim=1)    # not needed scene graph does that already\n",
    "\n",
    "#             # undo shuffle\n",
    "#             k = self._batch_unshuffle_ddp(k, idx_unshuffle)\n",
    "\n",
    "        # compute query features\n",
    "        q_outputs = self.encoder_q(feed_dict_q, mode)  # queries: NxC\n",
    "        #q = nn.functional.normalize(q, dim=1)\n",
    "        \n",
    "        k,q = pair_embeddings(k_outputs, q_outputs, mode)\n",
    "        \n",
    "        k = stack_features_across_batch(k)\n",
    "        q = stack_features_across_batch(q)\n",
    "        \n",
    "        q = nn.functional.normalize(q, dim=1)\n",
    "        \n",
    "        with torch.no_grad():\n",
    "            k = nn.functional.normalize(k, dim=1)\n",
    "            \n",
    "        # compute logits\n",
    "        # Einstein sum is more intuitive\n",
    "        # positive logits: Nx1\n",
    "        l_pos = torch.einsum('nc,nc->n', [q, k]).unsqueeze(-1)\n",
    "        # negative logits: Nxr\n",
    "        l_neg = torch.einsum('nc,ck->nk', [q, self.queue.clone().detach()])\n",
    "\n",
    "        # logits: Nx(1+r)\n",
    "        logits = torch.cat([l_pos, l_neg], dim=1)\n",
    "\n",
    "        # apply temperature\n",
    "        logits /= self.T\n",
    "\n",
    "        # labels: positive key indicators\n",
    "        labels = torch.zeros(logits.shape[0], dtype=torch.long).cuda()\n",
    "\n",
    "        # dequeue and enqueue\n",
    "        self._dequeue_and_enqueue(k)\n",
    "        \n",
    "        # prototypical contrast\n",
    "        if cluster_result is not None:  \n",
    "            proto_labels = []\n",
    "            proto_logits = []\n",
    "            for n, (im2cluster,prototypes,density) in enumerate(zip(cluster_result['im2cluster'],cluster_result['centroids'],cluster_result['density'])):\n",
    "                # get positive prototypes\n",
    "                pos_proto_id = im2cluster[index]\n",
    "                pos_prototypes = prototypes[pos_proto_id]    \n",
    "                \n",
    "                # sample negative prototypes\n",
    "                all_proto_id = [i for i in range(im2cluster.max())] \n",
    "                \n",
    "                #print(len(pos_prototypes), len(all_proto_id))\n",
    "                neg_proto_id = set(all_proto_id)-set(pos_proto_id.tolist())\n",
    "                neg_proto_id = sample(neg_proto_id,self.r) #sample r negative prototypes \n",
    "                neg_prototypes = prototypes[neg_proto_id]    \n",
    "\n",
    "                proto_selected = torch.cat([pos_prototypes,neg_prototypes],dim=0)\n",
    "                \n",
    "                # compute prototypical logits\n",
    "                logits_proto = torch.mm(q,proto_selected.t())\n",
    "                \n",
    "                # targets for prototype assignment\n",
    "                labels_proto = torch.linspace(0, q.size(0)-1, steps=q.size(0)).long().cuda()\n",
    "                \n",
    "                # scaling temperatures for the selected prototypes\n",
    "                temp_proto = density[torch.cat([pos_proto_id,torch.LongTensor(neg_proto_id).cuda()],dim=0)]  \n",
    "                logits_proto /= temp_proto\n",
    "                \n",
    "                proto_labels.append(labels_proto)\n",
    "                proto_logits.append(logits_proto)\n",
    "            return logits, labels, proto_logits, proto_labels\n",
    "        else:\n",
    "            return logits, labels, None, None\n",
    "\n",
    "\n",
    "# utils\n",
    "@torch.no_grad()\n",
    "def concat_all_gather(tensor):\n",
    "    \"\"\"\n",
    "    Performs all_gather operation on the provided tensors.\n",
    "    *** Warning ***: torch.distributed.all_gather has no gradient.\n",
    "    \"\"\"\n",
    "    tensors_gather = [torch.ones_like(tensor)\n",
    "        for _ in range(torch.distributed.get_world_size())]\n",
    "    torch.distributed.all_gather(tensors_gather, tensor, async_op=False)\n",
    "\n",
    "    output = torch.cat(tensors_gather, dim=0)\n",
    "    return output\n"
   ]
  },
  {
   "cell_type": "code",
   "execution_count": null,
   "metadata": {},
   "outputs": [],
   "source": [
    "model = MoCo(r=40)\n",
    "model = model.cuda()"
   ]
  },
  {
   "cell_type": "markdown",
   "metadata": {},
   "source": [
    "## Testing the MoCo model "
   ]
  },
  {
   "cell_type": "code",
   "execution_count": null,
   "metadata": {},
   "outputs": [
    {
     "name": "stdout",
     "output_type": "stream",
     "text": [
      "[0, 1]\n",
      "[0, 1]\n",
      "[0, 1]\n",
      "[0, 1]\n",
      "[1, 0]\n"
     ]
    }
   ],
   "source": [
    "outputs = model(feed_dict_q_, feed_dict_k_, metadata_)"
   ]
  },
  {
   "cell_type": "code",
   "execution_count": null,
   "metadata": {},
   "outputs": [],
   "source": [
    "logits, labels, _, __ = outputs"
   ]
  },
  {
   "cell_type": "code",
   "execution_count": null,
   "metadata": {},
   "outputs": [
    {
     "data": {
      "text/plain": [
       "(torch.Size([10, 41]), torch.Size([10]))"
      ]
     },
     "execution_count": null,
     "metadata": {},
     "output_type": "execute_result"
    }
   ],
   "source": [
    "logits.shape, labels.shape"
   ]
  },
  {
   "cell_type": "markdown",
   "metadata": {},
   "source": [
    "## Testing the Pairing of Embeddings"
   ]
  },
  {
   "cell_type": "code",
   "execution_count": null,
   "metadata": {},
   "outputs": [
    {
     "name": "stdout",
     "output_type": "stream",
     "text": [
      "[0, 1]\n",
      "[0, 1]\n",
      "[0, 1]\n",
      "[0, 1]\n",
      "[0, 1]\n"
     ]
    }
   ],
   "source": [
    "train_iter = iter(train_loader)\n",
    "\n",
    "feed_dict_q_, feed_dict_k_, metadata_ = next(train_iter)\n",
    "    \n",
    "feed_dict_q_[\"images\"] = feed_dict_q_[\"images\"].cuda()\n",
    "feed_dict_k_[\"images\"] = feed_dict_k_[\"images\"].cuda()\n",
    "\n",
    "outputs = model(feed_dict_q_, feed_dict_k_, metadata_)"
   ]
  },
  {
   "cell_type": "code",
   "execution_count": null,
   "metadata": {},
   "outputs": [],
   "source": [
    "model.encoder_q.requires_grad = False"
   ]
  },
  {
   "cell_type": "code",
   "execution_count": null,
   "metadata": {},
   "outputs": [],
   "source": []
  }
 ],
 "metadata": {
  "kernelspec": {
   "display_name": "disco",
   "language": "python",
   "name": "disco"
  }
 },
 "nbformat": 4,
 "nbformat_minor": 4
}
